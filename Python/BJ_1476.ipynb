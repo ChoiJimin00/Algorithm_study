{
 "cells": [
  {
   "cell_type": "code",
   "execution_count": 18,
   "id": "d4c6021e",
   "metadata": {},
   "outputs": [
    {
     "name": "stdout",
     "output_type": "stream",
     "text": [
      "7980\n"
     ]
    }
   ],
   "source": [
    "n = list(map(int, input().split()))\n",
    "\n",
    "for i in range(0, 286):\n",
    "    year = 28 * i + n[1]\n",
    "    \n",
    "    if (year - n[2])%19 == 0:\n",
    "        if (year - n[0])%15 == 0:\n",
    "            print(year)\n",
    "            break"
   ]
  }
 ],
 "metadata": {
  "kernelspec": {
   "display_name": "Python 3 (ipykernel)",
   "language": "python",
   "name": "python3"
  },
  "language_info": {
   "codemirror_mode": {
    "name": "ipython",
    "version": 3
   },
   "file_extension": ".py",
   "mimetype": "text/x-python",
   "name": "python",
   "nbconvert_exporter": "python",
   "pygments_lexer": "ipython3",
   "version": "3.8.8"
  }
 },
 "nbformat": 4,
 "nbformat_minor": 5
}
