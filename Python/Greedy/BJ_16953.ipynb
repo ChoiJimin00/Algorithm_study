{
 "cells": [
  {
   "cell_type": "code",
   "execution_count": 40,
   "metadata": {},
   "outputs": [
    {
     "name": "stdout",
     "output_type": "stream",
     "text": [
      "8\n",
      "4\n",
      "2\n",
      "-1\n"
     ]
    }
   ],
   "source": [
    "A,B = map(int, input().split())\n",
    "\n",
    "cnt = 1\n",
    "\n",
    "\n",
    "while A != B :\n",
    "    if A > B : \n",
    "        cnt = -1\n",
    "        break\n",
    "    \n",
    "    elif  B % 10 == 1 :\n",
    "        B = int(str(B)[:-1])\n",
    "        cnt += 1\n",
    "        \n",
    "    elif B % 2 == 0 :\n",
    "        B //= 2\n",
    "        cnt += 1\n",
    "    \n",
    "    else : \n",
    "        cnt = -1 \n",
    "        break\n",
    "\n",
    "print(cnt)"
   ]
  },
  {
   "cell_type": "code",
   "execution_count": null,
   "metadata": {},
   "outputs": [],
   "source": []
  }
 ],
 "metadata": {
  "kernelspec": {
   "display_name": "pyenv",
   "language": "python",
   "name": "python3"
  },
  "language_info": {
   "codemirror_mode": {
    "name": "ipython",
    "version": 3
   },
   "file_extension": ".py",
   "mimetype": "text/x-python",
   "name": "python",
   "nbconvert_exporter": "python",
   "pygments_lexer": "ipython3",
   "version": "3.8.11"
  }
 },
 "nbformat": 4,
 "nbformat_minor": 2
}
