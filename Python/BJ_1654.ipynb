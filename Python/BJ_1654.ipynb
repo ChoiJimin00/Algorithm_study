{
 "cells": [
  {
   "cell_type": "code",
   "execution_count": 95,
   "metadata": {},
   "outputs": [],
   "source": [
    "N,K = map(int,input().split())\n",
    "cable = []"
   ]
  },
  {
   "cell_type": "code",
   "execution_count": 97,
   "metadata": {},
   "outputs": [],
   "source": [
    "for _ in range(N):\n",
    "    cable.append(int(input()))\n",
    "    \n",
    "min_val = 1\n",
    "max_val = max(cable)"
   ]
  },
  {
   "cell_type": "code",
   "execution_count": 98,
   "metadata": {},
   "outputs": [],
   "source": [
    "unit = (min_val + max_val) // 2"
   ]
  },
  {
   "cell_type": "code",
   "execution_count": 100,
   "metadata": {},
   "outputs": [
    {
     "name": "stdout",
     "output_type": "stream",
     "text": [
      "200\n"
     ]
    }
   ],
   "source": [
    "while min_val <= max_val :\n",
    "    cnt = 0\n",
    "    \n",
    "    for line in cable :\n",
    "        cnt += line // unit\n",
    "    \n",
    "    if cnt >= K : # unit의 크기 늘려야 함\n",
    "        min_val = unit + 1\n",
    "        unit = (min_val + max_val) // 2\n",
    "        \n",
    "    else : # unit의 크기 줄어야 함\n",
    "        max_val = unit-1\n",
    "        unit = (min_val + max_val) // 2\n",
    "        \n",
    "print(unit)\n",
    "        \n",
    "        "
   ]
  },
  {
   "cell_type": "markdown",
   "metadata": {},
   "source": [
    "코드 합본"
   ]
  },
  {
   "cell_type": "code",
   "execution_count": 102,
   "metadata": {},
   "outputs": [
    {
     "name": "stdout",
     "output_type": "stream",
     "text": [
      "1\n"
     ]
    }
   ],
   "source": [
    "N,K = map(int,input().split())\n",
    "cable = []\n",
    "\n",
    "for _ in range(N):\n",
    "    cable.append(int(input()))\n",
    "    \n",
    "min_val = 1\n",
    "max_val = max(cable)\n",
    "\n",
    "unit = (min_val + max_val) // 2\n",
    "\n",
    "while min_val <= max_val :\n",
    "    cnt = 0\n",
    "    \n",
    "    for line in cable :\n",
    "        cnt += line // unit\n",
    "    \n",
    "    if cnt >= K : # unit의 크기 늘려야 함\n",
    "        min_val = unit + 1\n",
    "        unit = (min_val + max_val) // 2\n",
    "        \n",
    "    else : # unit의 크기 줄어야 함\n",
    "        max_val = unit-1\n",
    "        unit = (min_val + max_val) // 2\n",
    "        \n",
    "print(unit)\n",
    "        \n",
    "        "
   ]
  }
 ],
 "metadata": {
  "kernelspec": {
   "display_name": "pyenv",
   "language": "python",
   "name": "python3"
  },
  "language_info": {
   "codemirror_mode": {
    "name": "ipython",
    "version": 3
   },
   "file_extension": ".py",
   "mimetype": "text/x-python",
   "name": "python",
   "nbconvert_exporter": "python",
   "pygments_lexer": "ipython3",
   "version": "3.8.11"
  }
 },
 "nbformat": 4,
 "nbformat_minor": 2
}
