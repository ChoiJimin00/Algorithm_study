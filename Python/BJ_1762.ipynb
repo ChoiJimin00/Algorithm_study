{
 "cells": [
  {
   "cell_type": "code",
   "execution_count": 17,
   "metadata": {},
   "outputs": [],
   "source": [
    "N,M = map(int, input().split())"
   ]
  },
  {
   "cell_type": "code",
   "execution_count": 18,
   "metadata": {},
   "outputs": [],
   "source": [
    "name_list = []\n",
    "duplicate_name = []"
   ]
  },
  {
   "cell_type": "code",
   "execution_count": 19,
   "metadata": {},
   "outputs": [],
   "source": [
    "for i in range(N+M):\n",
    "    name = input()\n",
    "    if name not in name_list:\n",
    "        name_list.append(name)\n",
    "    else:\n",
    "        duplicate_name.append(name)"
   ]
  },
  {
   "cell_type": "code",
   "execution_count": 22,
   "metadata": {},
   "outputs": [
    {
     "name": "stdout",
     "output_type": "stream",
     "text": [
      "2\n"
     ]
    }
   ],
   "source": [
    "print(len(duplicate_name))"
   ]
  },
  {
   "cell_type": "code",
   "execution_count": 28,
   "metadata": {},
   "outputs": [
    {
     "name": "stdout",
     "output_type": "stream",
     "text": [
      "baesangwook\n",
      "ohhenrie\n"
     ]
    }
   ],
   "source": [
    "for name in duplicate_name:\n",
    "    print(name)"
   ]
  },
  {
   "cell_type": "markdown",
   "metadata": {},
   "source": [
    "코드 합본"
   ]
  },
  {
   "cell_type": "code",
   "execution_count": 36,
   "metadata": {},
   "outputs": [
    {
     "name": "stdout",
     "output_type": "stream",
     "text": [
      "2\n",
      "cd\n",
      "ed\n"
     ]
    }
   ],
   "source": [
    "N,M = map(int, input().split())\n",
    "\n",
    "name_list = []\n",
    "duplicate_name = []\n",
    "\n",
    "for i in range(N+M):\n",
    "    name = input()\n",
    "    if name not in name_list:\n",
    "        name_list.append(name)\n",
    "    else:\n",
    "        duplicate_name.append(name)\n",
    "\n",
    "print(len(duplicate_name))\n",
    "\n",
    "duplicate_name.sort()\n",
    "\n",
    "for name in duplicate_name:\n",
    "    print(name)\n",
    "\n",
    "\n",
    "### 이 코드 시간 초과"
   ]
  },
  {
   "cell_type": "markdown",
   "metadata": {},
   "source": [
    "새로운 IDEA\n",
    "\n",
    "입력을 전부 받아서 list 생성\n",
    "count로 개수 검사 -> 2개 이상인 이름만 따로 리스트 생성"
   ]
  },
  {
   "cell_type": "code",
   "execution_count": 37,
   "metadata": {},
   "outputs": [],
   "source": [
    "N,M = map(int, input().split())\n",
    "name_list = []\n",
    "\n",
    "for _ in range(N+M):\n",
    "    name = input()\n",
    "    name_list.append(name)\n",
    "    \n"
   ]
  },
  {
   "cell_type": "code",
   "execution_count": 46,
   "metadata": {},
   "outputs": [
    {
     "name": "stdout",
     "output_type": "stream",
     "text": [
      "2\n",
      "cd\n",
      "ed\n"
     ]
    }
   ],
   "source": [
    "import collections \n",
    "\n",
    "duplicate_name = [item for item, count in collections.Counter(name_list).items() if count > 1]\n",
    "print(len(duplicate_name))\n",
    "\n",
    "duplicate_name.sort()\n",
    "for name in duplicate_name:\n",
    "    print(name)"
   ]
  },
  {
   "cell_type": "markdown",
   "metadata": {},
   "source": [
    "코드 합본"
   ]
  },
  {
   "cell_type": "code",
   "execution_count": null,
   "metadata": {},
   "outputs": [],
   "source": [
    "import collections \n",
    "\n",
    "N,M = map(int, input().split())\n",
    "name_list = []\n",
    "\n",
    "for _ in range(N+M):\n",
    "    name = input()\n",
    "    name_list.append(name)\n",
    "\n",
    "duplicate_name = [item for item, count in collections.Counter(name_list).items() if count > 1]\n",
    "print(len(duplicate_name))\n",
    "\n",
    "duplicate_name.sort()\n",
    "for name in duplicate_name:\n",
    "    print(name)"
   ]
  },
  {
   "cell_type": "markdown",
   "metadata": {},
   "source": []
  }
 ],
 "metadata": {
  "kernelspec": {
   "display_name": "pyenv",
   "language": "python",
   "name": "python3"
  },
  "language_info": {
   "codemirror_mode": {
    "name": "ipython",
    "version": 3
   },
   "file_extension": ".py",
   "mimetype": "text/x-python",
   "name": "python",
   "nbconvert_exporter": "python",
   "pygments_lexer": "ipython3",
   "version": "3.8.11"
  }
 },
 "nbformat": 4,
 "nbformat_minor": 2
}
