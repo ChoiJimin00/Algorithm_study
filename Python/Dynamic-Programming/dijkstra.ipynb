{
 "cells": [
  {
   "cell_type": "markdown",
   "metadata": {},
   "source": [
    "## heap을 이용하여 dijkstra 알고리즘 구현"
   ]
  },
  {
   "cell_type": "code",
   "execution_count": 2,
   "metadata": {},
   "outputs": [
    {
     "name": "stdout",
     "output_type": "stream",
     "text": [
      "0\n",
      "2\n",
      "3\n",
      "7\n",
      "INF\n"
     ]
    }
   ],
   "source": [
    "import heapq\n",
    "#import sys\n",
    "\n",
    "#input = sys.stdin.readline\n",
    "INF = int(1e9)\n",
    "\n",
    "V, E = map(int, input().split()) # node 개수, edge 개수\n",
    "K = int(input()) # 시작 노드 번호\n",
    "\n",
    "graph = [[] for _ in range(V+1)]\n",
    "distance = [INF]*(V+1) # 최단 거리 테이블\n",
    "\n",
    "for _ in range(E):\n",
    "    start, end, weight = map(int, input().split())\n",
    "    # start 노드에서 end 노드로 가는 weight\n",
    "    graph[start].append((end, weight))\n",
    "    \n",
    "    \n",
    "def dijkstra(start):\n",
    "    heap = []\n",
    "    # 시작 노드로 가기 위한 최단 경로는 0으로 설정하여 큐에 삽입\n",
    "    heapq.heappush(heap,(0,start)) \n",
    "    distance[start] = 0\n",
    "    \n",
    "    while heap:\n",
    "        # 최단 경로 cost가 우선 순위 큐의 index로 사용됨.\n",
    "        # 최단 거리가 가장 짧은 노드에 대한 정보 꺼내기\n",
    "        dist, current = heapq.heappop(heap)\n",
    "        \n",
    "        # 현재 노드가 이미 처리된 적 있는 노드라면 무시\n",
    "        if distance[current] < dist :\n",
    "            continue\n",
    "        \n",
    "        # 현재 노드와 연결괸 다른 인접 노드 확인\n",
    "        for next_node, weight in graph[current]:\n",
    "            new_weight = dist + weight\n",
    "            \n",
    "            # 현재 노드를 거쳐, 다른 노드로 이동하는 거리가 더 짧은 경우\n",
    "            if new_weight < distance[next_node]:\n",
    "                distance[next_node] = new_weight\n",
    "                heapq.heappush(heap, (new_weight,next_node))\n",
    "         \n",
    "dijkstra(K)\n",
    "\n",
    "for i in range(1, V+1):\n",
    "    print('INF' if distance[i] == INF else distance[i])"
   ]
  }
 ],
 "metadata": {
  "kernelspec": {
   "display_name": "pyenv",
   "language": "python",
   "name": "python3"
  },
  "language_info": {
   "codemirror_mode": {
    "name": "ipython",
    "version": 3
   },
   "file_extension": ".py",
   "mimetype": "text/x-python",
   "name": "python",
   "nbconvert_exporter": "python",
   "pygments_lexer": "ipython3",
   "version": "3.8.11"
  }
 },
 "nbformat": 4,
 "nbformat_minor": 2
}
