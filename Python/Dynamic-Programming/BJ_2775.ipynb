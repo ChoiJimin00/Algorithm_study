{
 "cells": [
  {
   "cell_type": "markdown",
   "id": "653064d6",
   "metadata": {},
   "source": [
    "15층, 14호실인 아파트 배열 생성 (호실에서 0번째 호실은 사용 X)"
   ]
  },
  {
   "cell_type": "code",
   "execution_count": 79,
   "id": "d5a1fb0e",
   "metadata": {},
   "outputs": [],
   "source": [
    "row = col = 15\n",
    "apart = [[0 for j in range(col)] for i in range(row)]"
   ]
  },
  {
   "cell_type": "markdown",
   "id": "652e5eb0",
   "metadata": {},
   "source": [
    "0층 인원수 초기화"
   ]
  },
  {
   "cell_type": "code",
   "execution_count": 80,
   "id": "000f5804",
   "metadata": {},
   "outputs": [],
   "source": [
    "for i in range(row):\n",
    "    apart[0][i] = i"
   ]
  },
  {
   "cell_type": "code",
   "execution_count": 81,
   "id": "9e51c009",
   "metadata": {},
   "outputs": [
    {
     "data": {
      "text/plain": [
       "[[0, 1, 2, 3, 4, 5, 6, 7, 8, 9, 10, 11, 12, 13, 14],\n",
       " [0, 0, 0, 0, 0, 0, 0, 0, 0, 0, 0, 0, 0, 0, 0],\n",
       " [0, 0, 0, 0, 0, 0, 0, 0, 0, 0, 0, 0, 0, 0, 0],\n",
       " [0, 0, 0, 0, 0, 0, 0, 0, 0, 0, 0, 0, 0, 0, 0],\n",
       " [0, 0, 0, 0, 0, 0, 0, 0, 0, 0, 0, 0, 0, 0, 0],\n",
       " [0, 0, 0, 0, 0, 0, 0, 0, 0, 0, 0, 0, 0, 0, 0],\n",
       " [0, 0, 0, 0, 0, 0, 0, 0, 0, 0, 0, 0, 0, 0, 0],\n",
       " [0, 0, 0, 0, 0, 0, 0, 0, 0, 0, 0, 0, 0, 0, 0],\n",
       " [0, 0, 0, 0, 0, 0, 0, 0, 0, 0, 0, 0, 0, 0, 0],\n",
       " [0, 0, 0, 0, 0, 0, 0, 0, 0, 0, 0, 0, 0, 0, 0],\n",
       " [0, 0, 0, 0, 0, 0, 0, 0, 0, 0, 0, 0, 0, 0, 0],\n",
       " [0, 0, 0, 0, 0, 0, 0, 0, 0, 0, 0, 0, 0, 0, 0],\n",
       " [0, 0, 0, 0, 0, 0, 0, 0, 0, 0, 0, 0, 0, 0, 0],\n",
       " [0, 0, 0, 0, 0, 0, 0, 0, 0, 0, 0, 0, 0, 0, 0],\n",
       " [0, 0, 0, 0, 0, 0, 0, 0, 0, 0, 0, 0, 0, 0, 0]]"
      ]
     },
     "execution_count": 81,
     "metadata": {},
     "output_type": "execute_result"
    }
   ],
   "source": [
    "apart"
   ]
  },
  {
   "cell_type": "markdown",
   "id": "b5902d26",
   "metadata": {},
   "source": [
    "각 호실 기준으로 (이전 층의 같은 호실 인원 수) + (같은 층의 이전 호실 인원 수)더함"
   ]
  },
  {
   "cell_type": "code",
   "execution_count": 82,
   "id": "72beb0c5",
   "metadata": {},
   "outputs": [],
   "source": [
    "for i in range(1,col) :\n",
    "    for j in range(row) :\n",
    "        apart[i][j] = apart[i-1][j] + apart[i][j-1]"
   ]
  },
  {
   "cell_type": "markdown",
   "id": "8d07a7d0",
   "metadata": {},
   "source": [
    "입력 & 출력"
   ]
  },
  {
   "cell_type": "code",
   "execution_count": 83,
   "id": "854cc942",
   "metadata": {},
   "outputs": [
    {
     "name": "stdout",
     "output_type": "stream",
     "text": [
      "2\n",
      "1\n",
      "3\n",
      "6\n",
      "2\n",
      "3\n",
      "10\n"
     ]
    }
   ],
   "source": [
    "T = int(input())\n",
    "\n",
    "for time in range(T):\n",
    "    n = int(input())\n",
    "    k = int(input())\n",
    "    \n",
    "    print(apart[n][k])"
   ]
  },
  {
   "cell_type": "markdown",
   "id": "9844dc15",
   "metadata": {},
   "source": [
    "제출 코드"
   ]
  },
  {
   "cell_type": "code",
   "execution_count": 84,
   "id": "91cb4231",
   "metadata": {},
   "outputs": [
    {
     "name": "stdout",
     "output_type": "stream",
     "text": [
      "2\n",
      "1\n",
      "3\n",
      "6\n",
      "2\n",
      "3\n",
      "10\n"
     ]
    }
   ],
   "source": [
    "T = int(input())\n",
    "\n",
    "row=col=15\n",
    "apart = [[0 for j in range(col)] for i in range(row)]\n",
    "\n",
    "for i in range(row):\n",
    "    apart[0][i] = i\n",
    "\n",
    "for i in range(1,col) :\n",
    "    for j in range(row) :\n",
    "        apart[i][j] = apart[i-1][j] + apart[i][j-1]\n",
    "        \n",
    "for time in range(T):\n",
    "    n = int(input())\n",
    "    k = int(input())\n",
    "    \n",
    "    print(apart[n][k])"
   ]
  }
 ],
 "metadata": {
  "kernelspec": {
   "display_name": "Python 3 (ipykernel)",
   "language": "python",
   "name": "python3"
  },
  "language_info": {
   "codemirror_mode": {
    "name": "ipython",
    "version": 3
   },
   "file_extension": ".py",
   "mimetype": "text/x-python",
   "name": "python",
   "nbconvert_exporter": "python",
   "pygments_lexer": "ipython3",
   "version": "3.8.8"
  }
 },
 "nbformat": 4,
 "nbformat_minor": 5
}
