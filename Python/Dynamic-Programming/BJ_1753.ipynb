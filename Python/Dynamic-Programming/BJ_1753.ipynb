{
 "cells": [
  {
   "cell_type": "code",
   "execution_count": 8,
   "metadata": {},
   "outputs": [],
   "source": [
    "import numpy as np\n",
    "\n",
    "V, E = map(int, input().split())\n",
    "K = int(input())\n",
    "\n",
    "graph = [[] for _ in range(V+1)]\n",
    "distance = [np.inf]*(V+1)"
   ]
  },
  {
   "cell_type": "code",
   "execution_count": 11,
   "metadata": {},
   "outputs": [],
   "source": [
    "for _ in range(E):\n",
    "    start, end, weight = map(int, input().split())\n",
    "    graph[start].append((end, weight))"
   ]
  },
  {
   "cell_type": "code",
   "execution_count": 12,
   "metadata": {},
   "outputs": [
    {
     "data": {
      "text/plain": [
       "[[], [(2, 2), (3, 3)], [(3, 4), (4, 5)], [(4, 6)], [], [(1, 1)]]"
      ]
     },
     "execution_count": 12,
     "metadata": {},
     "output_type": "execute_result"
    }
   ],
   "source": [
    "graph"
   ]
  },
  {
   "cell_type": "code",
   "execution_count": 15,
   "metadata": {},
   "outputs": [],
   "source": [
    "import heapq\n",
    "\n",
    "def dijkstra(start):\n",
    "    q = []\n",
    "    heapq.heappush(q,(0,start)) # 시작 노드의 거리 0\n",
    "    distance[start] = 0\n",
    "    \n",
    "    while q :\n",
    "        # 최단 거리에 해당하는 노드 pop\n",
    "        dist, current = heapq.heappop(q)\n",
    "        \n",
    "        # 현재 노드가 이미 처리된 적 있는 노드라면 무시\n",
    "        if distance[current] < dist :\n",
    "            continue\n",
    "        \n",
    "        # 현재 노드와 연결괸 다른 인접 노드 확인\n",
    "        for node in graph[current]:\n",
    "            cost = dist + node[1]\n",
    "            \n",
    "            # 현재 노드를 거쳐, 다른 노드로 이동하는 거리가 더 짧은 경우\n",
    "            if cost < distance[node[0]]:\n",
    "                distance[node[0]] = cost\n",
    "                heapq.heappush(q, (cost,node[0]))\n",
    "                \n",
    "                \n",
    "    "
   ]
  },
  {
   "cell_type": "code",
   "execution_count": 16,
   "metadata": {},
   "outputs": [],
   "source": [
    "dijkstra(K)"
   ]
  },
  {
   "cell_type": "code",
   "execution_count": 17,
   "metadata": {},
   "outputs": [
    {
     "name": "stdout",
     "output_type": "stream",
     "text": [
      "0\n",
      "2\n",
      "3\n",
      "7\n",
      "INF\n"
     ]
    }
   ],
   "source": [
    "for i in range(1, V+1):\n",
    "    if distance[i] == np.inf:\n",
    "        print('INF')\n",
    "    else :\n",
    "        print(distance[i])"
   ]
  },
  {
   "cell_type": "markdown",
   "metadata": {},
   "source": [
    "코드 합본"
   ]
  },
  {
   "cell_type": "code",
   "execution_count": 1,
   "metadata": {},
   "outputs": [
    {
     "name": "stdout",
     "output_type": "stream",
     "text": [
      "0\n",
      "2\n",
      "3\n",
      "7\n",
      "INF\n"
     ]
    }
   ],
   "source": [
    "import heapq\n",
    "#import sys\n",
    "\n",
    "#input = sys.stdin.readline\n",
    "INF = int(1e9)\n",
    "\n",
    "V, E = map(int, input().split())\n",
    "K = int(input())\n",
    "\n",
    "graph = [[] for _ in range(V+1)]\n",
    "distance = [INF]*(V+1) # 최단 거리 테이블\n",
    "\n",
    "for _ in range(E):\n",
    "    start, end, weight = map(int, input().split())\n",
    "    graph[start].append((end, weight))\n",
    "    \n",
    "    \n",
    "\n",
    "def dijkstra(start):\n",
    "    heap = []\n",
    "    heapq.heappush(heap,(0,start)) # 시작 노드의 거리 0\n",
    "    distance[start] = 0\n",
    "    \n",
    "    while heap:\n",
    "        # 최단 거리에 해당하는 노드 pop\n",
    "        dist, current = heapq.heappop(heap)\n",
    "        \n",
    "        # 현재 노드가 이미 처리된 적 있는 노드라면 무시\n",
    "        if distance[current] < dist :\n",
    "            continue\n",
    "        \n",
    "        # 현재 노드와 연결괸 다른 인접 노드 확인\n",
    "        for next_node, weight in graph[current]:\n",
    "            new_weight = dist + weight\n",
    "            \n",
    "            # 현재 노드를 거쳐, 다른 노드로 이동하는 거리가 더 짧은 경우\n",
    "            if new_weight < distance[next_node]:\n",
    "                distance[next_node] = new_weight\n",
    "                heapq.heappush(heap, (new_weight,next_node))\n",
    "    \n",
    "dijkstra(K)\n",
    "\n",
    "for i in range(1, V+1):\n",
    "    print('INF' if distance[i] == INF else distance[i])"
   ]
  },
  {
   "cell_type": "code",
   "execution_count": null,
   "metadata": {},
   "outputs": [],
   "source": []
  }
 ],
 "metadata": {
  "kernelspec": {
   "display_name": "pyenv",
   "language": "python",
   "name": "python3"
  },
  "language_info": {
   "codemirror_mode": {
    "name": "ipython",
    "version": 3
   },
   "file_extension": ".py",
   "mimetype": "text/x-python",
   "name": "python",
   "nbconvert_exporter": "python",
   "pygments_lexer": "ipython3",
   "version": "3.8.11"
  }
 },
 "nbformat": 4,
 "nbformat_minor": 2
}
