{
 "cells": [
  {
   "cell_type": "code",
   "execution_count": 14,
   "id": "04b4a986",
   "metadata": {},
   "outputs": [
    {
     "name": "stdout",
     "output_type": "stream",
     "text": [
      "5\n",
      "YCPZY\n",
      "CYZZP\n",
      "CCPPP\n",
      "YCYZC\n",
      "CPPZZ\n",
      "4\n"
     ]
    }
   ],
   "source": [
    "n = int(input())\n",
    "arr = [list(input()) for _ in range(n)]\n",
    "\n",
    "def check(arr):\n",
    "    answer = 0\n",
    "    cnt = 1\n",
    "    \n",
    "    # 행 별로 검사\n",
    "    for i in range(len(arr)):\n",
    "        cnt = 1\n",
    "        for j in range(1,len(arr)):\n",
    "            if arr[i][j] == arr[i][j-1]:\n",
    "                cnt += 1\n",
    "            else: \n",
    "                cnt = 1\n",
    "            \n",
    "            if cnt > answer:\n",
    "                answer = cnt\n",
    "    \n",
    "    # 열 별로 검사\n",
    "    for i in range(len(arr)):\n",
    "        cnt = 1\n",
    "        for j in range(1,len(arr)):\n",
    "            if arr[j][i] == arr[j-1][i]:\n",
    "                cnt += 1\n",
    "            else:\n",
    "                cnt = 1\n",
    "            \n",
    "            if cnt > answer:\n",
    "                answer = cnt\n",
    "\n",
    "    return answer\n",
    "\n",
    "max = check(arr)\n",
    "\n",
    "# 행 별로 위치 변경\n",
    "for i in range(n):\n",
    "    for j in range(1, n):\n",
    "        arr[i][j], arr[i][j-1] = arr[i][j-1], arr[i][j]\n",
    "        tmp = check(arr)\n",
    "        if max < tmp:\n",
    "            max = tmp\n",
    "        \n",
    "        arr[i][j], arr[i][j-1] = arr[i][j-1], arr[i][j]\n",
    "    \n",
    "# 열 별로 위치 변경\n",
    "for i in range(n):\n",
    "    for j in range(1, n):\n",
    "        arr[j][i], arr[j-1][i] = arr[j-1][i], arr[j][i]\n",
    "        tmp = check(arr)\n",
    "        if max < tmp:\n",
    "            max = tmp\n",
    "        arr[j][i], arr[j-1][i] = arr[j-1][i], arr[j][i]\n",
    "        \n",
    "print(max)"
   ]
  }
 ],
 "metadata": {
  "kernelspec": {
   "display_name": "Python 3 (ipykernel)",
   "language": "python",
   "name": "python3"
  },
  "language_info": {
   "codemirror_mode": {
    "name": "ipython",
    "version": 3
   },
   "file_extension": ".py",
   "mimetype": "text/x-python",
   "name": "python",
   "nbconvert_exporter": "python",
   "pygments_lexer": "ipython3",
   "version": "3.8.8"
  }
 },
 "nbformat": 4,
 "nbformat_minor": 5
}
