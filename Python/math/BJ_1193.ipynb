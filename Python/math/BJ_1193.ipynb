{
 "cells": [
  {
   "cell_type": "code",
   "execution_count": 29,
   "metadata": {},
   "outputs": [],
   "source": [
    "## 모든 순서 대로 list를 채우고 출력하는 방식 -> 시간초과\n",
    "\n",
    "num_list = [0]\n",
    "\n",
    "for n in range(2, 5000):\n",
    "    # 홀수 이면 1부터 시작\n",
    "    if n % 2 == 1:\n",
    "        for i in range(1,n):\n",
    "            num_list.append(str(i)+'/'+str(n-i))\n",
    "    # 짝수이면 (n-1)/1 부터 시작\n",
    "    else:\n",
    "        for i in range(n-1,0,-1):\n",
    "            num_list.append(str(i)+'/'+str(n-i))\n",
    "\n",
    "X = int(input())\n",
    "\n",
    "print(num_list[X])\n"
   ]
  },
  {
   "cell_type": "code",
   "execution_count": 31,
   "metadata": {},
   "outputs": [
    {
     "name": "stdout",
     "output_type": "stream",
     "text": [
      "1/1\n"
     ]
    }
   ],
   "source": [
    "## 정답 -> 수학적인 규칙 찾아야 함!!\n",
    "num = int(input())\n",
    "line = 1\n",
    "\n",
    "while num > line:\n",
    "    num -= line\n",
    "    line += 1\n",
    "    \n",
    "# 짝수일경우\n",
    "if line % 2 == 0:\n",
    "    a = num\n",
    "    b = line - num + 1\n",
    "# 홀수일경우\n",
    "elif line % 2 == 1:\n",
    "    a = line - num + 1\n",
    "    b = num\n",
    "\n",
    "print(f'{a}/{b}')"
   ]
  }
 ],
 "metadata": {
  "kernelspec": {
   "display_name": "pyenv",
   "language": "python",
   "name": "python3"
  },
  "language_info": {
   "codemirror_mode": {
    "name": "ipython",
    "version": 3
   },
   "file_extension": ".py",
   "mimetype": "text/x-python",
   "name": "python",
   "nbconvert_exporter": "python",
   "pygments_lexer": "ipython3",
   "version": "3.8.11"
  }
 },
 "nbformat": 4,
 "nbformat_minor": 2
}
