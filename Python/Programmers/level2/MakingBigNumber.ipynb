{
 "cells": [
  {
   "cell_type": "code",
   "execution_count": 1,
   "id": "ad9c5fba",
   "metadata": {},
   "outputs": [],
   "source": [
    "number = \"4177252841\"\n",
    "k = 4"
   ]
  },
  {
   "cell_type": "code",
   "execution_count": 2,
   "id": "d8993edc",
   "metadata": {},
   "outputs": [],
   "source": [
    "def solution(number, k):\n",
    "    answer = ''\n",
    "    # k+1까지 숫자 에서 제일 큰 수 뽑기 -> 그 앞에 나머지 지우기\n",
    "    # k = k - (max의 index) 반복\n",
    "    tmp = 0\n",
    "    cnt = 0\n",
    "    \n",
    "    while k > 0:\n",
    "        new_li = number[tmp:tmp+(k+1)]\n",
    "        answer += max(new_li)\n",
    "        cnt = new_li.index(max(new_li))\n",
    "        tmp = (tmp+1) + cnt\n",
    "        k = k-cnt\n",
    "        \n",
    "        if k == 0 : \n",
    "            answer += number[tmp:]\n",
    "        \n",
    "    return (answer)"
   ]
  },
  {
   "cell_type": "code",
   "execution_count": 3,
   "id": "561fe289",
   "metadata": {},
   "outputs": [
    {
     "data": {
      "text/plain": [
       "'775841'"
      ]
     },
     "execution_count": 3,
     "metadata": {},
     "output_type": "execute_result"
    }
   ],
   "source": [
    "solution(number, k)"
   ]
  }
 ],
 "metadata": {
  "kernelspec": {
   "display_name": "Python 3 (ipykernel)",
   "language": "python",
   "name": "python3"
  },
  "language_info": {
   "codemirror_mode": {
    "name": "ipython",
    "version": 3
   },
   "file_extension": ".py",
   "mimetype": "text/x-python",
   "name": "python",
   "nbconvert_exporter": "python",
   "pygments_lexer": "ipython3",
   "version": "3.8.8"
  }
 },
 "nbformat": 4,
 "nbformat_minor": 5
}
