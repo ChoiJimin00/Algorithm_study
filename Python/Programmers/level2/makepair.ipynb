{
 "cells": [
  {
   "cell_type": "code",
   "execution_count": 1,
   "id": "55146fd9",
   "metadata": {},
   "outputs": [],
   "source": [
    "s = 'baabaa'\n",
    "# s = 'cdcd'"
   ]
  },
  {
   "cell_type": "code",
   "execution_count": 2,
   "id": "cd4f6191",
   "metadata": {},
   "outputs": [],
   "source": [
    "def solution(s):\n",
    "    alphabet = []\n",
    "    \n",
    "    for i in s:\n",
    "        if len(alphabet) == 0:\n",
    "            alphabet.append(i)\n",
    "            \n",
    "        elif alphabet[-1] == i:\n",
    "            del alphabet[-1]\n",
    "            \n",
    "        else:\n",
    "            alphabet.append(i)\n",
    "        \n",
    "    if len(alphabet) == 0 : answer = 1\n",
    "    else : answer = 0\n",
    "    \n",
    "    return answer"
   ]
  },
  {
   "cell_type": "code",
   "execution_count": 3,
   "id": "3a6ff25a",
   "metadata": {},
   "outputs": [
    {
     "data": {
      "text/plain": [
       "1"
      ]
     },
     "execution_count": 3,
     "metadata": {},
     "output_type": "execute_result"
    }
   ],
   "source": [
    "solution(s)"
   ]
  }
 ],
 "metadata": {
  "kernelspec": {
   "display_name": "Python 3 (ipykernel)",
   "language": "python",
   "name": "python3"
  },
  "language_info": {
   "codemirror_mode": {
    "name": "ipython",
    "version": 3
   },
   "file_extension": ".py",
   "mimetype": "text/x-python",
   "name": "python",
   "nbconvert_exporter": "python",
   "pygments_lexer": "ipython3",
   "version": "3.8.8"
  }
 },
 "nbformat": 4,
 "nbformat_minor": 5
}
