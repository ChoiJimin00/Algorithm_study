{
 "cells": [
  {
   "cell_type": "code",
   "execution_count": 1,
   "id": "8a013d2c",
   "metadata": {},
   "outputs": [],
   "source": [
    "record = [\"Enter uid1234 Muzi\", \"Enter uid4567 Prodo\",\"Leave uid1234\",\"Enter uid1234 Prodo\",\"Change uid4567 Ryan\"]"
   ]
  },
  {
   "cell_type": "code",
   "execution_count": 2,
   "id": "634d7b4d",
   "metadata": {},
   "outputs": [],
   "source": [
    "# enter : 해시에 추가\n",
    "# leave :\n",
    "# change : 해시에서 값 변경\n",
    "\n",
    "def solution(record):\n",
    "    answer = []\n",
    "    namebook = {}\n",
    "    printer = {'Enter':'님이 들어왔습니다.', 'Leave':'님이 나갔습니다.'}\n",
    "     \n",
    "    for cont in record:\n",
    "        com = cont.split(' ')\n",
    "        if com[0] in ['Enter','Change']:\n",
    "            namebook[com[1]] = com[2]\n",
    "        \n",
    "    for cont in record:\n",
    "        com = cont.split(' ')\n",
    "        if com[0] != 'Change':\n",
    "            answer.append(namebook[com[1]] + printer[com[0]])\n",
    "    \n",
    "    return answer"
   ]
  },
  {
   "cell_type": "code",
   "execution_count": null,
   "id": "414ceaf6",
   "metadata": {},
   "outputs": [],
   "source": [
    "### 초기 코드\n",
    "'''\n",
    "namebook = {}\n",
    "uid_li = []\n",
    "\n",
    "def enter(uid, name):\n",
    "    namebook[uid] = name\n",
    "    uid_li.append(uid)\n",
    "\n",
    "def change(uid, name):\n",
    "    namebook[uid] = name\n",
    "\n",
    "def solution(record):\n",
    "    answer = []\n",
    "    com_li = []\n",
    "    # enter : 해시에 추가\n",
    "    # leave :\n",
    "    # change : 해시에서 값 변경\n",
    "    \n",
    "    for cont in record:\n",
    "        com = cont.split(' ')[0]\n",
    "        \n",
    "        if com == 'Enter':\n",
    "            uid, name = cont.split(' ')[1],cont.split(' ')[2]\n",
    "            enter(uid, name)\n",
    "            com_li.append('님이 들어왔습니다.')\n",
    "            \n",
    "        elif com == 'Change':\n",
    "            uid, name = cont.split(' ')[1],cont.split(' ')[2]\n",
    "            change(uid, name)\n",
    "        else:\n",
    "            uid_li.append(cont.split(' ')[1])\n",
    "            com_li.append('님이 나갔습니다.')\n",
    "    \n",
    "    for uid, ment in zip(uid_li, com_li):\n",
    "        answer.append(namebook[uid] + ment)\n",
    "    \n",
    "    return answer\n",
    "    '''"
   ]
  },
  {
   "cell_type": "code",
   "execution_count": 3,
   "id": "5475f152",
   "metadata": {},
   "outputs": [
    {
     "data": {
      "text/plain": [
       "['Prodo님이 들어왔습니다.', 'Ryan님이 들어왔습니다.', 'Prodo님이 나갔습니다.', 'Prodo님이 들어왔습니다.']"
      ]
     },
     "execution_count": 3,
     "metadata": {},
     "output_type": "execute_result"
    }
   ],
   "source": [
    "solution(record)"
   ]
  }
 ],
 "metadata": {
  "kernelspec": {
   "display_name": "Python 3 (ipykernel)",
   "language": "python",
   "name": "python3"
  },
  "language_info": {
   "codemirror_mode": {
    "name": "ipython",
    "version": 3
   },
   "file_extension": ".py",
   "mimetype": "text/x-python",
   "name": "python",
   "nbconvert_exporter": "python",
   "pygments_lexer": "ipython3",
   "version": "3.8.8"
  }
 },
 "nbformat": 4,
 "nbformat_minor": 5
}
