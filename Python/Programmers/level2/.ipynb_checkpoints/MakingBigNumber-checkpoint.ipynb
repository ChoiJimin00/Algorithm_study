{
 "cells": [
  {
   "cell_type": "code",
   "execution_count": 1,
   "id": "ad9c5fba",
   "metadata": {},
   "outputs": [],
   "source": [
    "number = \"4177252841\"\n",
    "k = 4"
   ]
  },
  {
   "cell_type": "code",
   "execution_count": 2,
   "id": "d8993edc",
   "metadata": {},
   "outputs": [],
   "source": [
    "def solution(numbers):\n",
    "    '''\n",
    "    ## 풀이 1\n",
    "    answer = []\n",
    "    num = sorted([str(i)*3 for i in numbers], reverse=True)\n",
    "    \n",
    "    for i in num:\n",
    "        tmp = len(i)//3\n",
    "        answer.append(i[:tmp])\n",
    "        \n",
    "    answer = str(int(''.join(answers)))\n",
    "    '''\n",
    "    \n",
    "    numbers = list(map(str, numbers))\n",
    "    numbers.sort(key = lambda x : x*3, reverse=True)\n",
    "    answer = str(int(''.join(numbers))) # 0000을 0으로 바꾸기 위해 int를 해줌!\n",
    "    return answer"
   ]
  },
  {
   "cell_type": "code",
   "execution_count": 3,
   "id": "561fe289",
   "metadata": {},
   "outputs": [
    {
     "data": {
      "text/plain": [
       "'775841'"
      ]
     },
     "execution_count": 3,
     "metadata": {},
     "output_type": "execute_result"
    }
   ],
   "source": [
    "solution(number, k)"
   ]
  }
 ],
 "metadata": {
  "kernelspec": {
   "display_name": "Python 3 (ipykernel)",
   "language": "python",
   "name": "python3"
  },
  "language_info": {
   "codemirror_mode": {
    "name": "ipython",
    "version": 3
   },
   "file_extension": ".py",
   "mimetype": "text/x-python",
   "name": "python",
   "nbconvert_exporter": "python",
   "pygments_lexer": "ipython3",
   "version": "3.8.8"
  }
 },
 "nbformat": 4,
 "nbformat_minor": 5
}
