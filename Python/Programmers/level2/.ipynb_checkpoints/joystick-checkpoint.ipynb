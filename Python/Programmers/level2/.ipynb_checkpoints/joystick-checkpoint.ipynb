{
 "cells": [
  {
   "cell_type": "code",
   "execution_count": 1,
   "id": "2ec931c8",
   "metadata": {},
   "outputs": [],
   "source": [
    "name = 'JAN'"
   ]
  },
  {
   "cell_type": "code",
   "execution_count": 2,
   "id": "ab13d68d",
   "metadata": {},
   "outputs": [],
   "source": [
    "def solution(name):\n",
    "    answer = 0\n",
    "    next_idx = 0\n",
    "    min_rl = len(name)-1\n",
    "    \n",
    "    # 맨 뒤가 A 인 경우 빼주기\n",
    "    tmp = 0\n",
    "    for i in name[::-1]:\n",
    "        if i != 'A':\n",
    "            break\n",
    "        tmp += 1\n",
    "        \n",
    "    min_rl -= tmp\n",
    "    \n",
    "    \n",
    "    for i, joy in enumerate(name):\n",
    "        # 위,아래 조작\n",
    "        answer += min(ord(joy)-ord('A'), 1+ord('Z')-ord(joy))\n",
    "        \n",
    "        # 왼쪽, 오른쪽 조작\n",
    "        next_idx = i+1\n",
    "        while next_idx < len(name) and name[next_idx] =='A':\n",
    "            next_idx += 1\n",
    "            \n",
    "        min_rl = min(min_rl, 2*i + (len(name)-next_idx))\n",
    "        \n",
    "    answer += min_rl\n",
    "    \n",
    "    return answer"
   ]
  },
  {
   "cell_type": "code",
   "execution_count": 3,
   "id": "0a34e7fc",
   "metadata": {},
   "outputs": [
    {
     "data": {
      "text/plain": [
       "23"
      ]
     },
     "execution_count": 3,
     "metadata": {},
     "output_type": "execute_result"
    }
   ],
   "source": [
    "solution(name)"
   ]
  }
 ],
 "metadata": {
  "kernelspec": {
   "display_name": "Python 3 (ipykernel)",
   "language": "python",
   "name": "python3"
  },
  "language_info": {
   "codemirror_mode": {
    "name": "ipython",
    "version": 3
   },
   "file_extension": ".py",
   "mimetype": "text/x-python",
   "name": "python",
   "nbconvert_exporter": "python",
   "pygments_lexer": "ipython3",
   "version": "3.8.8"
  }
 },
 "nbformat": 4,
 "nbformat_minor": 5
}
