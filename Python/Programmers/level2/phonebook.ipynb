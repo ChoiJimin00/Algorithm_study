{
 "cells": [
  {
   "cell_type": "code",
   "execution_count": null,
   "id": "d2f70b9d",
   "metadata": {},
   "outputs": [],
   "source": [
    "phone_book = [\"119\", \"97674223\", \"1195524421\"]\n",
    "# [\"123\",\"456\",\"789\"]\n",
    "# [\"12\",\"123\",\"1235\",\"567\",\"88\"]"
   ]
  },
  {
   "cell_type": "code",
   "execution_count": null,
   "id": "40747b7d",
   "metadata": {},
   "outputs": [],
   "source": [
    "def solution(phone_book):\n",
    "    \n",
    "    phone_dict = {i: 1 for i in phone_book}\n",
    "    \n",
    "    for i in phone_book:\n",
    "        for j in range(len(i)):\n",
    "            try:\n",
    "                phone_dict[i[:j]] \n",
    "                return False\n",
    "            except:\n",
    "                pass\n",
    "    return True"
   ]
  },
  {
   "cell_type": "code",
   "execution_count": null,
   "id": "af00dc47",
   "metadata": {},
   "outputs": [],
   "source": [
    "print(solution(phone_book))"
   ]
  }
 ],
 "metadata": {
  "kernelspec": {
   "display_name": "Python 3 (ipykernel)",
   "language": "python",
   "name": "python3"
  },
  "language_info": {
   "codemirror_mode": {
    "name": "ipython",
    "version": 3
   },
   "file_extension": ".py",
   "mimetype": "text/x-python",
   "name": "python",
   "nbconvert_exporter": "python",
   "pygments_lexer": "ipython3",
   "version": "3.8.8"
  }
 },
 "nbformat": 4,
 "nbformat_minor": 5
}
