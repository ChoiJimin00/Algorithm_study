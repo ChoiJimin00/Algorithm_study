{
 "cells": [
  {
   "cell_type": "code",
   "execution_count": 1,
   "id": "77ecf61d",
   "metadata": {},
   "outputs": [],
   "source": [
    "progresses = [93, 30, 55]; speeds = [1, 30, 5]\n",
    "#progresses = [95, 90, 99, 99, 80, 99]; speeds = [1, 1, 1, 1, 1, 1]"
   ]
  },
  {
   "cell_type": "code",
   "execution_count": 2,
   "id": "f04f404f",
   "metadata": {},
   "outputs": [],
   "source": [
    "import math\n",
    "\n",
    "def solution(progresses, speeds):\n",
    "    answer = []\n",
    "\n",
    "    days = [math.ceil((100-p)/s) for p,s in zip(progresses, speeds)]\n",
    "    \n",
    "    idx = 0\n",
    "    while idx != len(days):\n",
    "        cnt = 1\n",
    "        \n",
    "        for i in range(idx+1, len(days)):\n",
    "            if days[idx] < days[i]:break\n",
    "            cnt += 1\n",
    "            \n",
    "        answer.append(cnt)\n",
    "        idx += cnt\n",
    "            \n",
    "    return answer"
   ]
  },
  {
   "cell_type": "code",
   "execution_count": 3,
   "id": "d535d93b",
   "metadata": {},
   "outputs": [
    {
     "data": {
      "text/plain": [
       "[2, 1]"
      ]
     },
     "execution_count": 3,
     "metadata": {},
     "output_type": "execute_result"
    }
   ],
   "source": [
    "solution(progresses, speeds)"
   ]
  }
 ],
 "metadata": {
  "kernelspec": {
   "display_name": "Python 3 (ipykernel)",
   "language": "python",
   "name": "python3"
  },
  "language_info": {
   "codemirror_mode": {
    "name": "ipython",
    "version": 3
   },
   "file_extension": ".py",
   "mimetype": "text/x-python",
   "name": "python",
   "nbconvert_exporter": "python",
   "pygments_lexer": "ipython3",
   "version": "3.8.8"
  }
 },
 "nbformat": 4,
 "nbformat_minor": 5
}
