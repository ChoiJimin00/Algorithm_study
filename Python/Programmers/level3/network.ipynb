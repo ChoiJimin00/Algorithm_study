{
 "cells": [
  {
   "cell_type": "code",
   "execution_count": null,
   "id": "6d6600cd",
   "metadata": {},
   "outputs": [],
   "source": [
    "n = 3; computers = [[1, 1, 0], [1, 1, 0], [0, 0, 1]] # return 2\n",
    "# n = 3; computers = [[1, 1, 0], [1, 1, 1], [0, 1, 1]] # return 1"
   ]
  },
  {
   "cell_type": "code",
   "execution_count": null,
   "id": "a39ac8ef",
   "metadata": {},
   "outputs": [],
   "source": [
    "'''\n",
    "전체를 for문으로 돌림 -> 양방향 그래프 x\n",
    "bfs 실행\n",
    "'''\n",
    "from collections import deque\n",
    "\n",
    "def solution(n, computers):\n",
    "    answer = 0\n",
    "    visited = []\n",
    "    \n",
    "    for com in range(n): \n",
    "        queue = deque([com])\n",
    "        \n",
    "        if com not in visited: # 연결이 안 되었을 경우\n",
    "            answer += 1\n",
    "    \n",
    "        while queue:\n",
    "            tmp = queue.popleft()\n",
    "        \n",
    "            for j in range(n):\n",
    "                if computers[tmp][j] == 1 and j not in visited:\n",
    "                    visited.append(j)\n",
    "                    queue.append(j)\n",
    "                \n",
    "    return answer"
   ]
  },
  {
   "cell_type": "code",
   "execution_count": null,
   "id": "bc727af6",
   "metadata": {},
   "outputs": [],
   "source": [
    "solution(n, computers)"
   ]
  }
 ],
 "metadata": {
  "kernelspec": {
   "display_name": "Python 3 (ipykernel)",
   "language": "python",
   "name": "python3"
  },
  "language_info": {
   "codemirror_mode": {
    "name": "ipython",
    "version": 3
   },
   "file_extension": ".py",
   "mimetype": "text/x-python",
   "name": "python",
   "nbconvert_exporter": "python",
   "pygments_lexer": "ipython3",
   "version": "3.8.8"
  }
 },
 "nbformat": 4,
 "nbformat_minor": 5
}
