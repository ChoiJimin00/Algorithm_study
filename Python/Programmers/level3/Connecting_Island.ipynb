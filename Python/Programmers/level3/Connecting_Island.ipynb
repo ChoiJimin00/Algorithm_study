{
 "cells": [
  {
   "cell_type": "code",
   "execution_count": 1,
   "id": "e58e30b8",
   "metadata": {},
   "outputs": [
    {
     "ename": "SyntaxError",
     "evalue": "invalid syntax (1746459950.py, line 11)",
     "output_type": "error",
     "traceback": [
      "\u001b[0;36m  File \u001b[0;32m\"/var/folders/1m/c6k1f_pd4vx1v_sj8708f_jw0000gn/T/ipykernel_36415/1746459950.py\"\u001b[0;36m, line \u001b[0;32m11\u001b[0m\n\u001b[0;31m    sorted(count.items(), key = lamda x: x[1], reverse=True)\u001b[0m\n\u001b[0m                                      ^\u001b[0m\n\u001b[0;31mSyntaxError\u001b[0m\u001b[0;31m:\u001b[0m invalid syntax\n"
     ]
    }
   ],
   "source": [
    "from collections import Counter\n",
    "\n",
    "n = 4\n",
    "costs = [[0,1,1],[0,2,2],[1,2,5],[1,3,1],[2,3,8]]\n",
    "\n",
    "def solution(n, costs):\n",
    "    answer = 1\n",
    "    \n",
    "    st = list(map(lambda x: x[0], costs)) + list(map(lambda x: x[1], costs))\n",
    "    count = Counter(st)\n",
    "    sorted(count.items(), key = lamda x : x[1], reverse=True)\n",
    "    #print(count.values())\n",
    "    print(count)\n",
    "    #orted(str_list, key=lambda x : x[1]))\n",
    "    \n",
    "    \n",
    "    \n",
    "    return answer"
   ]
  },
  {
   "cell_type": "code",
   "execution_count": null,
   "id": "58f5d84e",
   "metadata": {},
   "outputs": [],
   "source": [
    "solution(n, costs)"
   ]
  },
  {
   "cell_type": "code",
   "execution_count": null,
   "id": "e81dc082",
   "metadata": {},
   "outputs": [],
   "source": []
  }
 ],
 "metadata": {
  "kernelspec": {
   "display_name": "Python 3 (ipykernel)",
   "language": "python",
   "name": "python3"
  },
  "language_info": {
   "codemirror_mode": {
    "name": "ipython",
    "version": 3
   },
   "file_extension": ".py",
   "mimetype": "text/x-python",
   "name": "python",
   "nbconvert_exporter": "python",
   "pygments_lexer": "ipython3",
   "version": "3.8.8"
  }
 },
 "nbformat": 4,
 "nbformat_minor": 5
}
