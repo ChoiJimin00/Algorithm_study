{
 "cells": [
  {
   "cell_type": "code",
   "execution_count": null,
   "id": "1de08b2e",
   "metadata": {},
   "outputs": [],
   "source": [
    "genres = [\"classic\", \"pop\", \"classic\", \"classic\", \"pop\"]\n",
    "plays = [500, 600, 150, 800, 2500]"
   ]
  },
  {
   "cell_type": "code",
   "execution_count": null,
   "id": "04507149",
   "metadata": {},
   "outputs": [],
   "source": [
    "def solution(genres, plays):\n",
    "    song = {}\n",
    "    answer = []\n",
    "    for g,p,i in zip(genres, plays,range(len(genres))):\n",
    "        print(g,p,i)\n",
    "\n",
    "\n",
    "    for i, g in enumerate(genres):\n",
    "        if g in song.keys():\n",
    "            song[g].append([i, plays[i]])\n",
    "        else:\n",
    "            song[g] = [[i, plays[i]]]\n",
    "\n",
    "    for i in song.keys():\n",
    "        song[i].sort(key=lambda x: x[1], reverse=True)\n",
    "\n",
    "    for i in song.keys():\n",
    "        song[i] = song[i][:2]\n",
    "\n",
    "    total = []\n",
    "    for i in song.keys():\n",
    "        tmp = 0\n",
    "        for j in song[i]:\n",
    "            tmp += j[1]\n",
    "        total.append([i, tmp])\n",
    "    total.sort(key=lambda x: x[1], reverse=True)\n",
    "\n",
    "    for gen, tot in total:\n",
    "        for i in song[gen]:\n",
    "            answer.append(i[0])\n",
    "\n",
    "    return answer"
   ]
  },
  {
   "cell_type": "code",
   "execution_count": null,
   "id": "47ce9fe6",
   "metadata": {},
   "outputs": [],
   "source": [
    "print(solution(genres, plays))"
   ]
  }
 ],
 "metadata": {
  "kernelspec": {
   "display_name": "Python 3 (ipykernel)",
   "language": "python",
   "name": "python3"
  },
  "language_info": {
   "codemirror_mode": {
    "name": "ipython",
    "version": 3
   },
   "file_extension": ".py",
   "mimetype": "text/x-python",
   "name": "python",
   "nbconvert_exporter": "python",
   "pygments_lexer": "ipython3",
   "version": "3.8.8"
  }
 },
 "nbformat": 4,
 "nbformat_minor": 5
}
