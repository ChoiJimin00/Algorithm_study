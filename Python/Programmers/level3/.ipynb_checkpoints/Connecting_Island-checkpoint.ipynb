{
 "cells": [
  {
   "cell_type": "code",
   "execution_count": 1,
   "id": "0a61295c",
   "metadata": {},
   "outputs": [],
   "source": [
    "n = 4\n",
    "costs = [[0,1,1],[0,2,2],[1,2,5],[1,3,1],[2,3,8]]"
   ]
  },
  {
   "cell_type": "code",
   "execution_count": null,
   "id": "3b6eb39a",
   "metadata": {},
   "outputs": [],
   "source": [
    "def solution(n, costs):\n",
    "    # kruskal 알고리즘 https://gmlwjd9405.github.io/2018/08/29/algorithm-kruskal-mst.html\n",
    "    # (cycle 찾기) union-find 알고리즘  https://gmlwjd9405.github.io/2018/08/31/algorithm-union-find.html\n",
    "    \n",
    "    costs = sorted(costs, key = lambda x: x[2])\n",
    "    answer = costs[0][2]\n",
    "    route = set([costs[0][0], costs[0][1]])\n",
    "    \n",
    "    while len(route) != n:\n",
    "        \n",
    "        for i in range(1, len(costs)) :\n",
    "            if costs[i][0] in route and costs[i][1] in route: # cycle 발생\n",
    "                continue\n",
    "                \n",
    "            if costs[i][0] in route or costs[i][1] in route:\n",
    "                route.update([costs[i][0], costs[i][1]])\n",
    "                answer += costs[i][2]\n",
    "                break\n",
    "    \n",
    "    return answer"
   ]
  },
  {
   "cell_type": "code",
   "execution_count": 2,
   "id": "13afcb49",
   "metadata": {},
   "outputs": [
    {
     "name": "stdout",
     "output_type": "stream",
     "text": [
      "{0, 1}\n",
      "{0, 1, 2}\n",
      "{0, 1, 2, 3}\n"
     ]
    },
    {
     "data": {
      "text/plain": [
       "4"
      ]
     },
     "execution_count": 2,
     "metadata": {},
     "output_type": "execute_result"
    }
   ],
   "source": [
    "solution(n, costs)"
   ]
  },
  {
   "cell_type": "code",
   "execution_count": null,
   "id": "249d3d6b",
   "metadata": {},
   "outputs": [],
   "source": []
  }
 ],
 "metadata": {
  "kernelspec": {
   "display_name": "Python 3 (ipykernel)",
   "language": "python",
   "name": "python3"
  },
  "language_info": {
   "codemirror_mode": {
    "name": "ipython",
    "version": 3
   },
   "file_extension": ".py",
   "mimetype": "text/x-python",
   "name": "python",
   "nbconvert_exporter": "python",
   "pygments_lexer": "ipython3",
   "version": "3.8.8"
  }
 },
 "nbformat": 4,
 "nbformat_minor": 5
}
