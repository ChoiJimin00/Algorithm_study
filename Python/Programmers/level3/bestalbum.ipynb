{
 "cells": [
  {
   "cell_type": "code",
   "execution_count": 1,
   "id": "3f99d1db",
   "metadata": {},
   "outputs": [],
   "source": [
    "genres = [\"classic\", \"pop\", \"classic\", \"classic\", \"pop\"]\n",
    "plays = [500, 600, 150, 800, 2500]"
   ]
  },
  {
   "cell_type": "code",
   "execution_count": 2,
   "id": "91eadcdb",
   "metadata": {},
   "outputs": [],
   "source": [
    "def solution(genres, plays):\n",
    "    song = {}\n",
    "    answer = []\n",
    "    \n",
    "    for idx, gen, pl in zip(range(len(genres)), genres, plays):\n",
    "        try:\n",
    "            song[gen]['total'] += pl\n",
    "            song[gen][idx] = pl\n",
    "        except:\n",
    "            song[gen] = {'total':pl, idx:pl}\n",
    "\n",
    "    \n",
    "    # 장르별 총 재생횟수로 sort\n",
    "    sorted_genres = sorted(song.items(), key=lambda x: x[1]['total'], reverse=True)\n",
    "    \n",
    "    # 장르 안에서 재생횟수로 sort\n",
    "    for i in sorted_genres:\n",
    "        tmp = i[1]\n",
    "        sorted_song = sorted(tmp.items(), key=lambda x:x[1], reverse=True)[1:]\n",
    "        \n",
    "        for i in range(2):\n",
    "            try:\n",
    "                answer.append(sorted_song[i][0])\n",
    "            except:\n",
    "                pass\n",
    "            \n",
    "    return answer"
   ]
  },
  {
   "cell_type": "code",
   "execution_count": 3,
   "id": "31cad108",
   "metadata": {},
   "outputs": [
    {
     "data": {
      "text/plain": [
       "[4, 1, 3, 0]"
      ]
     },
     "execution_count": 3,
     "metadata": {},
     "output_type": "execute_result"
    }
   ],
   "source": [
    "solution(genres, plays)"
   ]
  }
 ],
 "metadata": {
  "kernelspec": {
   "display_name": "Python 3 (ipykernel)",
   "language": "python",
   "name": "python3"
  },
  "language_info": {
   "codemirror_mode": {
    "name": "ipython",
    "version": 3
   },
   "file_extension": ".py",
   "mimetype": "text/x-python",
   "name": "python",
   "nbconvert_exporter": "python",
   "pygments_lexer": "ipython3",
   "version": "3.8.8"
  }
 },
 "nbformat": 4,
 "nbformat_minor": 5
}
