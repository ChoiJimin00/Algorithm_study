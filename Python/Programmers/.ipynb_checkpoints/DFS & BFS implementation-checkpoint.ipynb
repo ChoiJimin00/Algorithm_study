{
 "cells": [
  {
   "cell_type": "markdown",
   "id": "25b44046",
   "metadata": {},
   "source": [
    "### DFS (Depth-Fisrt Search)\n",
    "루트 노드(혹은 다른 임의의 노드)에서 시작해서 다음 분기(branch)로 넘어가기 전에 해당 분기를 완벽하게 탐색하는 방식을 말합니다.\n",
    "- 구현 : 스택 또는 재귀함수로 구현 (현재 정점에서 갈 수 있는 점들까지 들어가면서 탐색)"
   ]
  },
  {
   "cell_type": "markdown",
   "id": "00eede37",
   "metadata": {},
   "source": [
    "### BFS (Breadth-First Search)\n",
    "루트 노드(혹은 다른 임의의 노드)에서 시작해서 인접한 노드를 먼저 탐색하는 방법으로, 시작 정점으로부터 가까운 정점을 먼저 방문하고 멀리 떨어져 있는 정점을 나중에 방문하는 순회 방법입니다\n",
    "- 구현 : 큐를 이용해서 구현 (현재 정점에 연결된 가까운 점들부터 탐색)"
   ]
  },
  {
   "cell_type": "markdown",
   "id": "ff9c1cc4",
   "metadata": {},
   "source": [
    "#### 시간 복잡도\n",
    "[N : node의 수 / E : edge의 수]\n",
    "\n",
    "인접 리스트 : O(N+E)\n",
    "\n",
    "인접 행렬 : O(N²)"
   ]
  },
  {
   "cell_type": "markdown",
   "id": "6ca42907",
   "metadata": {},
   "source": [
    "### 깊이 우선 탐색(DFS)과 너비 우선 탐색(BFS) 활용한 문제 유형/응용\n",
    "DFS, BFS은 특징에 따라 사용에 더 적합한 문제 유형들이 있습니다.\n",
    "\n",
    "1) 그래프의 모든 정점을 방문하는 것이 주요한 문제\n",
    "단순히 모든 정점을 방문하는 것이 중요한 문제의 경우 DFS, BFS 두 가지 방법 중 어느 것을 사용하셔도 상관없습니다.\n",
    "둘 중 편한 것을 사용하시면 됩니다.\n",
    "\n",
    "2) 경로의 특징을 저장해둬야 하는 문제\n",
    "예를 들면 각 정점에 숫자가 적혀있고 a부터 b까지 가는 경로를 구하는데 경로에 같은 숫자가 있으면 안 된다는 문제 등, 각각의 경로마다 특징을 저장해둬야 할 때는 DFS를 사용합니다. (BFS는 경로의 특징을 가지지 못합니다)\n",
    "\n",
    "\n",
    "3) 최단거리 구해야 하는 문제\n",
    "미로 찾기 등 최단거리를 구해야 할 경우, BFS가 유리합니다.\n",
    "왜냐하면 깊이 우선 탐색으로 경로를 검색할 경우 처음으로 발견되는 해답이 최단거리가 아닐 수 있지만, \n",
    "너비 우선 탐색으로 현재 노드에서 가까운 곳부터 찾기 때문에경로를 탐색 시 먼저 찾아지는 해답이 곧 최단거리기 때문입니다."
   ]
  },
  {
   "cell_type": "code",
   "execution_count": 5,
   "id": "0310207f",
   "metadata": {},
   "outputs": [],
   "source": [
    "## 유향 그래프\n",
    "graph_list = {1: set([3, 4]),\n",
    "              2: set([3, 4, 5]),\n",
    "              3: set([1, 5]),\n",
    "              4: set([1]),\n",
    "              5: set([2, 6]),\n",
    "              6: set([3, 5])}\n",
    "\n",
    "root_node = 1"
   ]
  },
  {
   "cell_type": "code",
   "execution_count": 6,
   "id": "cd7e621d",
   "metadata": {},
   "outputs": [
    {
     "name": "stdout",
     "output_type": "stream",
     "text": [
      "[1, 3, 4, 5, 2, 6]\n"
     ]
    }
   ],
   "source": [
    "## BFS - queue\n",
    "from collections import deque\n",
    "\n",
    "def BFS_with_adj_list(graph, root):\n",
    "    visited = []\n",
    "    queue = deque([root])\n",
    "\n",
    "    while queue:\n",
    "        n = queue.popleft()\n",
    "        if n not in visited:\n",
    "            visited.append(n)\n",
    "            queue += graph[n] - set(visited)\n",
    "    return visited\n",
    "  \n",
    "print(BFS_with_adj_list(graph_list, root_node))"
   ]
  },
  {
   "cell_type": "code",
   "execution_count": 12,
   "id": "b6ae7811",
   "metadata": {},
   "outputs": [
    {
     "name": "stdout",
     "output_type": "stream",
     "text": [
      "1 2 3 8 7 4 5 6 "
     ]
    }
   ],
   "source": [
    "# BFS - adj_matrix\n",
    "from collections import deque\n",
    "\n",
    "# 양방향 matrix\n",
    "graph = [\n",
    "    [],\n",
    "    [2, 3, 8],\n",
    "    [1, 7],\n",
    "    [1, 4, 5],\n",
    "    [3, 5],\n",
    "    [3, 4],\n",
    "    [7],\n",
    "    [2, 6, 8],\n",
    "    [1, 7]\n",
    "]\n",
    "\n",
    "visited = [False] * len(graph)\n",
    "\n",
    "\n",
    "def bfs(graph, start, visited):\n",
    "    queue = deque([start])\n",
    "    visited[start] = True\n",
    "\n",
    "    # 큐에서 노드를 pop하고 그 노드의 인접노드들을 탐색. 단, 큐가 빌(False)때 까지\n",
    "    while queue:\n",
    "        v = queue.popleft()\n",
    "        print(v, end=' ')\n",
    "        for i in graph[v]:\n",
    "            if not visited[i]:\n",
    "                visited[i] = True\n",
    "                queue.append(i)\n",
    "\n",
    "bfs(graph, 1, visited)"
   ]
  },
  {
   "cell_type": "code",
   "execution_count": 11,
   "id": "a8b8b1d3",
   "metadata": {},
   "outputs": [
    {
     "name": "stdout",
     "output_type": "stream",
     "text": [
      "[1, 4, 3, 5, 6, 2]\n"
     ]
    }
   ],
   "source": [
    "## DFS - stack\n",
    "def DFS_with_adj_list(graph, root):\n",
    "    visited = []\n",
    "    stack = [root]\n",
    "\n",
    "    while stack:\n",
    "        n = stack.pop()\n",
    "        if n not in visited:\n",
    "            visited.append(n)\n",
    "            stack += graph[n] - set(visited)\n",
    "    return visited\n",
    "\n",
    "print(DFS_with_adj_list(graph_list, root_node))"
   ]
  },
  {
   "cell_type": "code",
   "execution_count": null,
   "id": "0b89ed2f",
   "metadata": {},
   "outputs": [],
   "source": [
    "# DFS - adj_matrix\n",
    "\n",
    "# 양방향 그래프\n",
    "graph = [\n",
    "    [],\n",
    "    [2, 3, 8],\n",
    "    [1, 7],\n",
    "    [1, 4, 5],\n",
    "    [3, 5],\n",
    "    [3, 4],\n",
    "    [7],\n",
    "    [2, 6, 8],\n",
    "    [1, 7]\n",
    "]\n",
    "\n",
    "visited = [False] * len(graph)\n",
    "\n",
    "def dfs(graph, v, visited):\n",
    "    visited[v] = True\n",
    "    print(v, end=' ')\n",
    "    \n",
    "    for i in graph[v]:\n",
    "        if not visited[i]:\n",
    "            dfs(graph, i, visited)\n",
    "\n",
    "# 0번 노드가 없으니 1번 노드부터 탐색\n",
    " dfs(graph, 1, visited)"
   ]
  }
 ],
 "metadata": {
  "kernelspec": {
   "display_name": "Python 3 (ipykernel)",
   "language": "python",
   "name": "python3"
  },
  "language_info": {
   "codemirror_mode": {
    "name": "ipython",
    "version": 3
   },
   "file_extension": ".py",
   "mimetype": "text/x-python",
   "name": "python",
   "nbconvert_exporter": "python",
   "pygments_lexer": "ipython3",
   "version": "3.8.8"
  }
 },
 "nbformat": 4,
 "nbformat_minor": 5
}
