{
 "cells": [
  {
   "cell_type": "code",
   "execution_count": 1,
   "id": "e0314906",
   "metadata": {},
   "outputs": [],
   "source": [
    "n = 5\n",
    "lost = [1,2,4]\n",
    "reserve = [1,2]"
   ]
  },
  {
   "cell_type": "code",
   "execution_count": 2,
   "id": "ac1b1cd8",
   "metadata": {},
   "outputs": [],
   "source": [
    "def solution(n,lost,reserve):\n",
    "    set_reserve = set(reserve) - set(lost)\n",
    "    set_lost = set(lost) - set(reserve)\n",
    "    \n",
    "    for i in set_reserve:\n",
    "        if (i-1) in set_lost:\n",
    "            set_lost.remove(i-1)\n",
    "        elif (i+1) in set_lost:\n",
    "            set_lost.remove(i+1)\n",
    "    \n",
    "    return n-len(set_lost)"
   ]
  },
  {
   "cell_type": "code",
   "execution_count": 3,
   "id": "0f14e06d",
   "metadata": {},
   "outputs": [
    {
     "data": {
      "text/plain": [
       "4"
      ]
     },
     "execution_count": 3,
     "metadata": {},
     "output_type": "execute_result"
    }
   ],
   "source": [
    "solution(n,lost, reserve)"
   ]
  }
 ],
 "metadata": {
  "kernelspec": {
   "display_name": "Python 3 (ipykernel)",
   "language": "python",
   "name": "python3"
  },
  "language_info": {
   "codemirror_mode": {
    "name": "ipython",
    "version": 3
   },
   "file_extension": ".py",
   "mimetype": "text/x-python",
   "name": "python",
   "nbconvert_exporter": "python",
   "pygments_lexer": "ipython3",
   "version": "3.8.8"
  }
 },
 "nbformat": 4,
 "nbformat_minor": 5
}
