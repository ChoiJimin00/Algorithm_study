{
 "cells": [
  {
   "cell_type": "code",
   "execution_count": 58,
   "metadata": {},
   "outputs": [
    {
     "name": "stdout",
     "output_type": "stream",
     "text": [
      "5\n",
      "1\n"
     ]
    }
   ],
   "source": [
    "from collections import deque\n",
    "\n",
    "# BFS function\n",
    "def bfs(x,y):\n",
    "    queue = deque()\n",
    "    queue.append((x,y))\n",
    "    \n",
    "    dx = [-1,1,0,0]\n",
    "    dy = [0,0,-1,1]\n",
    "    \n",
    "    while queue:\n",
    "        x,y = queue.popleft()\n",
    "        \n",
    "        for i in range(4):\n",
    "            nx = x + dx[i]\n",
    "            ny = y + dy[i]\n",
    "            \n",
    "            # 2차원 배열을 벗어난 경우\n",
    "            if nx<0 or nx>=M or ny<0 or ny>=N:\n",
    "                continue\n",
    "            \n",
    "            # 배추가 심어져 있지 않은 경우\n",
    "            if farm[nx][ny] == 0:\n",
    "                continue\n",
    "            \n",
    "            # 배추가 심어진 경우\n",
    "            if farm[nx][ny] == 1: \n",
    "                queue.append((nx,ny))\n",
    "                farm[nx][ny] = 0\n",
    "    \n",
    "    return 0\n",
    "\n",
    "\n",
    "T = int(input())\n",
    "\n",
    "for _ in range(T):\n",
    "    M,N,K = map(int,input().split())\n",
    "    \n",
    "    farm = [[0]*(N) for _ in range(M)]\n",
    "    \n",
    "    for _ in range(K):\n",
    "        x,y = map(int, input().split())\n",
    "        farm[x][y] = 1\n",
    "    \n",
    "    cnt = 0\n",
    "    for i in range(M):\n",
    "        for j in range(N):\n",
    "            if farm[i][j] == 1:\n",
    "                bfs(i,j)\n",
    "                cnt += 1\n",
    "            \n",
    "    print(cnt)\n",
    "    \n",
    "    \n",
    "\n"
   ]
  },
  {
   "cell_type": "code",
   "execution_count": null,
   "metadata": {},
   "outputs": [],
   "source": []
  }
 ],
 "metadata": {
  "kernelspec": {
   "display_name": "Python 3",
   "language": "python",
   "name": "python3"
  },
  "language_info": {
   "codemirror_mode": {
    "name": "ipython",
    "version": 3
   },
   "file_extension": ".py",
   "mimetype": "text/x-python",
   "name": "python",
   "nbconvert_exporter": "python",
   "pygments_lexer": "ipython3",
   "version": "3.8.11"
  }
 },
 "nbformat": 4,
 "nbformat_minor": 2
}
