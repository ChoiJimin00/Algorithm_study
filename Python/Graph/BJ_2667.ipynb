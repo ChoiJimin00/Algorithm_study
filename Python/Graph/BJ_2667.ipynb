{
 "cells": [
  {
   "cell_type": "markdown",
   "metadata": {},
   "source": [
    "## BFS 방식으로 풀기 (queue)"
   ]
  },
  {
   "cell_type": "code",
   "execution_count": 35,
   "metadata": {},
   "outputs": [
    {
     "name": "stdout",
     "output_type": "stream",
     "text": [
      "3\n",
      "7\n",
      "8\n",
      "9\n"
     ]
    }
   ],
   "source": [
    "from collections import deque\n",
    "import copy\n",
    "\n",
    "def bfs(x,y):\n",
    "    queue = deque()\n",
    "    queue.append((x,y))\n",
    "    \n",
    "    dx = [1,-1,0,0]\n",
    "    dy = [0,0,1,-1]\n",
    "    \n",
    "    house_BFS[x][y]=0\n",
    "    house_num = 0\n",
    "    \n",
    "    while queue:\n",
    "        x,y = queue.popleft()\n",
    "        house_num += 1\n",
    "        \n",
    "        for i in range(4):\n",
    "            nx = x + dx[i]\n",
    "            ny = y + dy[i]\n",
    "            \n",
    "            if nx<0 or nx>=N or ny<0 or ny>=N :\n",
    "                continue\n",
    "            \n",
    "            if house_BFS[nx][ny]==0:\n",
    "                continue\n",
    "            \n",
    "            if house_BFS[nx][ny]==1:\n",
    "                queue.append((nx,ny))\n",
    "                house_BFS[nx][ny]=0\n",
    "    \n",
    "    return house_num\n",
    "\n",
    "N = int(input())\n",
    "house=[]\n",
    "\n",
    "for _ in range(N):\n",
    "    house.append(list(map(int,input())))\n",
    "\n",
    "house_BFS = copy.deepcopy(house)\n",
    "house_DFS = copy.deepcopy(house)\n",
    "\n",
    "dx = [1,-1,0,0]\n",
    "dy = [0,0,1,-1]\n",
    "\n",
    "\n",
    "## BFS로 solving\n",
    "house_num_BFS = []\n",
    "count = 0\n",
    "\n",
    "for i in range(N):\n",
    "    for j in range(N):\n",
    "        if house_BFS[i][j] == 1 :\n",
    "            house_num_BFS.append(bfs(i,j))\n",
    "            count += 1\n",
    "            \n",
    "house_num_BFS.sort()\n",
    "\n",
    "print(count)\n",
    "for i in house_num_BFS:\n",
    "    print(i)"
   ]
  },
  {
   "cell_type": "markdown",
   "metadata": {},
   "source": [
    "## DFS 방식으로 풀기 (stack)"
   ]
  },
  {
   "cell_type": "code",
   "execution_count": 78,
   "metadata": {},
   "outputs": [
    {
     "name": "stdout",
     "output_type": "stream",
     "text": [
      "3\n",
      "7\n",
      "8\n",
      "9\n"
     ]
    }
   ],
   "source": [
    "import copy\n",
    "\n",
    "N = int(input())\n",
    "house=[]\n",
    "\n",
    "for _ in range(N):\n",
    "    house.append(list(map(int,input())))\n",
    "    \n",
    "house_BFS = copy.deepcopy(house)\n",
    "house_DFS = copy.deepcopy(house)\n",
    "\n",
    "def dfs(x,y):\n",
    "    stack = [(x,y)]\n",
    "    house_DFS[x][y]=0\n",
    "    house_num = 0\n",
    "    \n",
    "    dx = [1,-1,0,0]\n",
    "    dy = [0,0,1,-1]\n",
    "    \n",
    "    while stack:\n",
    "        x,y = stack.pop()\n",
    "        house_num += 1\n",
    "        \n",
    "        for i in range(4):\n",
    "            nx = x+dx[i]\n",
    "            ny = y+dy[i]\n",
    "            \n",
    "            if nx<0 or nx>=N or ny<0 or ny>=N:\n",
    "                continue\n",
    "            if house_DFS[nx][ny] == 0:\n",
    "                continue\n",
    "            if house_DFS[nx][ny] == 1:\n",
    "                stack.append((nx,ny))\n",
    "                house_DFS[nx][ny] = 0\n",
    "                \n",
    "    return house_num\n",
    "\n",
    "house_num_DFS = []\n",
    "count = 0\n",
    "\n",
    "for i in range(N):\n",
    "    for j in range(N):\n",
    "        if house_DFS[i][j] == 1 :\n",
    "            house_num_DFS.append(dfs(i,j))\n",
    "            count += 1\n",
    "            \n",
    "house_num_DFS.sort()\n",
    "\n",
    "print(count)\n",
    "for i in house_num_DFS:\n",
    "    print(i)"
   ]
  }
 ],
 "metadata": {
  "kernelspec": {
   "display_name": "pyenv",
   "language": "python",
   "name": "python3"
  },
  "language_info": {
   "codemirror_mode": {
    "name": "ipython",
    "version": 3
   },
   "file_extension": ".py",
   "mimetype": "text/x-python",
   "name": "python",
   "nbconvert_exporter": "python",
   "pygments_lexer": "ipython3",
   "version": "3.8.11"
  }
 },
 "nbformat": 4,
 "nbformat_minor": 2
}
