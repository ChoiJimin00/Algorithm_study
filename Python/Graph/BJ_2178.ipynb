{
 "cells": [
  {
   "cell_type": "code",
   "execution_count": null,
   "metadata": {},
   "outputs": [],
   "source": [
    "from collections import deque\n",
    "\n",
    "N, M = map(int, input().split())\n",
    "\n",
    "graph = []\n",
    "\n",
    "for _ in range(N):\n",
    "  graph.append(list(map(int, input())))\n",
    "\n",
    "# 너비 우선 탐색\n",
    "def bfs(x, y):\n",
    "  # 이동할 네 가지 방향 정의 (상, 하, 좌, 우)\n",
    "  dx = [-1, 1, 0, 0] \n",
    "  dy = [0, 0, -1, 1]\n",
    "\n",
    "  # deque 생성\n",
    "  queue = deque()\n",
    "  queue.append((x, y))\n",
    "\n",
    "  while queue:\n",
    "    x, y = queue.popleft()\n",
    "    \n",
    "    # 현재 위치에서 4가지 방향으로 위치 확인\n",
    "    for i in range(4):\n",
    "      nx = x + dx[i]\n",
    "      ny = y + dy[i]\n",
    "\n",
    "      # 위치가 벗어나면 안되기 때문에 조건 추가\n",
    "      if nx < 0 or nx >= N or ny < 0 or ny >= M:\n",
    "        continue\n",
    "      \n",
    "      # 벽이므로 진행 불가\n",
    "      if graph[nx][ny] == 0:\n",
    "        continue\n",
    "      \n",
    "      # 벽이 아니므로 이동\n",
    "      if graph[nx][ny] == 1:\n",
    "        graph[nx][ny] = graph[x][y] + 1\n",
    "        queue.append((nx, ny))\n",
    "  \n",
    "  # 마지막 값에서 카운트 값을 뽑는다.\n",
    "  return graph[N-1][M-1]\n",
    "\n",
    "print(bfs(0, 0))"
   ]
  },
  {
   "cell_type": "code",
   "execution_count": 219,
   "metadata": {},
   "outputs": [],
   "source": [
    "from collections import deque\n",
    "\n",
    "N,M = map(int, input().split())\n",
    "\n",
    "graph = []\n",
    "\n",
    "for _ in range(N):\n",
    "    graph.append(list(map(int,input())))"
   ]
  },
  {
   "cell_type": "code",
   "execution_count": 221,
   "metadata": {},
   "outputs": [],
   "source": [
    "def bfs(x,y):\n",
    "    dx = [-1,1,0,0]\n",
    "    dy = [0,0,-1,1]\n",
    "    \n",
    "    queue = deque()\n",
    "    queue.append((x,y))\n",
    "    \n",
    "    while queue:\n",
    "        x,y = queue.popleft()\n",
    "        \n",
    "        for i in range(4):\n",
    "            nx = x + dx[i]\n",
    "            ny = y + dy[i]\n",
    "            \n",
    "            if nx < 0 or nx >= N or ny < 0 or ny >= M:\n",
    "                continue\n",
    "            \n",
    "            if graph[nx][ny]==0:\n",
    "                continue\n",
    "            \n",
    "            if graph[nx][ny]==1:\n",
    "                graph[nx][ny] = graph[x][y]+1\n",
    "                queue.append((nx,ny))\n",
    "                \n",
    "    \n",
    "    return graph[N-1][M-1]"
   ]
  },
  {
   "cell_type": "code",
   "execution_count": 223,
   "metadata": {},
   "outputs": [
    {
     "name": "stdout",
     "output_type": "stream",
     "text": [
      "9\n"
     ]
    }
   ],
   "source": [
    "print(bfs(0,0))\n"
   ]
  }
 ],
 "metadata": {
  "kernelspec": {
   "display_name": "pyenv",
   "language": "python",
   "name": "python3"
  },
  "language_info": {
   "codemirror_mode": {
    "name": "ipython",
    "version": 3
   },
   "file_extension": ".py",
   "mimetype": "text/x-python",
   "name": "python",
   "nbconvert_exporter": "python",
   "pygments_lexer": "ipython3",
   "version": "3.8.11"
  }
 },
 "nbformat": 4,
 "nbformat_minor": 2
}
