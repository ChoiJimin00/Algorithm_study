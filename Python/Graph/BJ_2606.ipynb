{
 "cells": [
  {
   "cell_type": "code",
   "execution_count": 29,
   "metadata": {},
   "outputs": [],
   "source": [
    "from collections import deque"
   ]
  },
  {
   "cell_type": "code",
   "execution_count": 30,
   "metadata": {},
   "outputs": [],
   "source": [
    "node = int(input())\n",
    "edge = int(input())\n",
    "computers =[[False]*(node+1) for _ in range(node+1)]\n",
    "\n",
    "for _ in range(edge):\n",
    "    node1, node2 = map(int,input().split())\n",
    "    \n",
    "    computers[node1][node2] = computers[node2][node1] = True\n",
    "    "
   ]
  },
  {
   "cell_type": "code",
   "execution_count": null,
   "metadata": {},
   "outputs": [],
   "source": [
    "visited = [0]*(node+1)"
   ]
  },
  {
   "cell_type": "code",
   "execution_count": null,
   "metadata": {},
   "outputs": [],
   "source": [
    "def bfs(V):\n",
    "    bfs_queue = deque()\n",
    "    bfs_queue.append(V)\n",
    "    visited[V] = 1\n",
    "    \n",
    "    while bfs_queue:\n",
    "        V = bfs_queue.popleft()\n",
    "        \n",
    "        for i in range(1, node+1):\n",
    "            if (computers[V][i] == True) and (visited[i] == 0):\n",
    "                bfs_queue.append(i)\n",
    "                visited[i] = 1\n",
    "                \n",
    "bfs(1)"
   ]
  },
  {
   "cell_type": "code",
   "execution_count": null,
   "metadata": {},
   "outputs": [],
   "source": [
    "cnt = -1\n",
    "for state in visited:\n",
    "    if state == 1:\n",
    "        cnt += 1\n",
    "print(cnt)"
   ]
  },
  {
   "cell_type": "markdown",
   "metadata": {},
   "source": [
    "코드 합본"
   ]
  },
  {
   "cell_type": "code",
   "execution_count": null,
   "metadata": {},
   "outputs": [],
   "source": [
    "## BFS로 구현\n",
    "from collections import deque\n",
    "\n",
    "node = int(input())\n",
    "edge = int(input())\n",
    "computers =[[False]*(node+1) for _ in range(node+1)]\n",
    "\n",
    "for _ in range(edge):\n",
    "    node1, node2 = map(int,input().split())\n",
    "    \n",
    "    computers[node1][node2] = computers[node2][node1] = True\n",
    "    \n",
    "visited = [0]*(node+1)\n",
    "\n",
    "def bfs(V):\n",
    "    bfs_queue = deque()\n",
    "    bfs_queue.append(V)\n",
    "    visited[V] = 1\n",
    "    \n",
    "    while bfs_queue:\n",
    "        V = bfs_queue.popleft()\n",
    "        \n",
    "        for i in range(1, node+1):\n",
    "            if (computers[V][i] == True) and (visited[i] == 0):\n",
    "                bfs_queue.append(i)\n",
    "                visited[i] = 1\n",
    "    \n",
    "bfs(1)\n",
    "\n",
    "cnt = -1\n",
    "for state in visited:\n",
    "    if state == 1:\n",
    "        cnt += 1\n",
    "        \n",
    "print(cnt)"
   ]
  }
 ],
 "metadata": {
  "kernelspec": {
   "display_name": "pyenv",
   "language": "python",
   "name": "python3"
  },
  "language_info": {
   "codemirror_mode": {
    "name": "ipython",
    "version": 3
   },
   "file_extension": ".py",
   "mimetype": "text/x-python",
   "name": "python",
   "nbconvert_exporter": "python",
   "pygments_lexer": "ipython3",
   "version": "3.8.11"
  }
 },
 "nbformat": 4,
 "nbformat_minor": 2
}
