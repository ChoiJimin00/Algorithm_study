{
 "cells": [
  {
   "cell_type": "code",
   "execution_count": 150,
   "metadata": {},
   "outputs": [
    {
     "name": "stdout",
     "output_type": "stream",
     "text": [
      "1 2 4 3 \n",
      "1 2 3 4 "
     ]
    }
   ],
   "source": [
    "from collections import deque\n",
    "\n",
    "N,M,V = map(int,input().split())\n",
    "\n",
    "graph = [[False]*(N+1) for _ in range(N+1)]\n",
    "\n",
    "for _ in range(M):\n",
    "    node1, node2 = map(int,input().split())\n",
    "    graph[node1][node2] = graph[node2][node1] = True\n",
    "    \n",
    "visited = [0]*(N+1)\n",
    "\n",
    "# DFS 구현\n",
    "def dfs(V):\n",
    "    visited[V] = 1\n",
    "    print(V, end=' ')\n",
    "    for i in range(1, N+1):\n",
    "        if (visited[i]==0) and (graph[V][i]==1):\n",
    "            dfs(i)\n",
    "    \n",
    "## BFS 구현\n",
    "def bfs(V):\n",
    "    q = deque()\n",
    "    q.append(V)\n",
    "    visited[V] = 0\n",
    "    \n",
    "    while q:\n",
    "        V = q.popleft()\n",
    "        print(V, end=' ')\n",
    "        for i in range(1, N+1):\n",
    "            if (visited[i]==1) and (graph[V][i]==1):\n",
    "                q.append(i)\n",
    "                visited[i]=0 \n",
    "    \n",
    "dfs(V)\n",
    "print()\n",
    "bfs(V)"
   ]
  }
 ],
 "metadata": {
  "kernelspec": {
   "display_name": "pyenv",
   "language": "python",
   "name": "python3"
  },
  "language_info": {
   "codemirror_mode": {
    "name": "ipython",
    "version": 3
   },
   "file_extension": ".py",
   "mimetype": "text/x-python",
   "name": "python",
   "nbconvert_exporter": "python",
   "pygments_lexer": "ipython3",
   "version": "3.8.11"
  }
 },
 "nbformat": 4,
 "nbformat_minor": 2
}
